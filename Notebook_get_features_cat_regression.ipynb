{
 "cells": [
  {
   "cell_type": "code",
   "execution_count": 1,
   "metadata": {},
   "outputs": [
    {
     "ename": "ModuleNotFoundError",
     "evalue": "No module named 'toolbox_ml'",
     "output_type": "error",
     "traceback": [
      "\u001b[1;31m---------------------------------------------------------------------------\u001b[0m",
      "\u001b[1;31mModuleNotFoundError\u001b[0m                       Traceback (most recent call last)",
      "Cell \u001b[1;32mIn[1], line 1\u001b[0m\n\u001b[1;32m----> 1\u001b[0m \u001b[38;5;28;01mimport\u001b[39;00m\u001b[38;5;250m \u001b[39m\u001b[38;5;21;01mtoolbox_ml\u001b[39;00m\n\u001b[0;32m      2\u001b[0m \u001b[38;5;28;01mimport\u001b[39;00m\u001b[38;5;250m \u001b[39m\u001b[38;5;21;01mimportlib\u001b[39;00m\n\u001b[0;32m      3\u001b[0m importlib\u001b[38;5;241m.\u001b[39mreload(toolbox_ml) \u001b[38;5;66;03m# Para importar la librería de nuevo y que coja los cambios en el código\u001b[39;00m\n",
      "\u001b[1;31mModuleNotFoundError\u001b[0m: No module named 'toolbox_ml'"
     ]
    }
   ],
   "source": [
    "import toolbox_ml\n",
    "import importlib\n",
    "importlib.reload(toolbox_ml) # Para importar la librería de nuevo y que coja los cambios en el código\n",
    "\n",
    "from toolbox_ml import (\n",
    "    describe_df,\n",
    "    tipifica_variables,\n",
    "    get_features_num_regression,\n",
    "    plot_features_num_regression,\n",
    "    get_features_cat_regression,\n",
    "    plot_features_cat_regression,\n",
    "    plot_features_cat_regression_subplots\n",
    ")\n",
    "\n",
    "import pandas as pd\n",
    "import numpy as np\n",
    "import matplotlib.pyplot as plt\n",
    "import seaborn as sns"
   ]
  },
  {
   "cell_type": "code",
   "execution_count": null,
   "metadata": {},
   "outputs": [],
   "source": [
    "df = pd.read_csv('data/Sleep_health_and_lifestyle_dataset.csv')\n",
    "df.info()"
   ]
  },
  {
   "cell_type": "code",
   "execution_count": null,
   "metadata": {},
   "outputs": [],
   "source": [
    "# Evaluamos los valores únicos de la variable \"Sleep Disorder\"\n",
    "print(df[\"Sleep Disorder\"].unique())"
   ]
  },
  {
   "cell_type": "markdown",
   "metadata": {},
   "source": [
    "#### Validaciones iniciales\n",
    "\n",
    "1. Verifica que la columna objetivo (`target_col`) existe en el DataFrame.\n",
    "2. Asegura que la columna objetivo es numérica.\n",
    "3. Valida que el `pvalue` esté entre 0 y 1.\n",
    "\n",
    "#### Selección de columnas categóricas\n",
    "\n",
    "- Filtra solo las columnas categóricas (`object` o `category`).\n",
    "\n",
    "#### Selección del test estadístico\n",
    "\n",
    "- Si una columna categórica tiene más de 1 grupo, se utiliza el test de **ANOVA** (test paramétrico) para evaluar su relación con la columna objetivo.\n",
    "\n",
    "#### Almacenar columnas relevantes\n",
    "\n",
    "- Si el p-valor de una columna categórica es menor que el umbral (`pvalue`), se incluye en el resultado.\n",
    "\n",
    "#### Resultados\n",
    "\n",
    "- Si no hay columnas categóricas relevantes, la función devuelve `None` y muestra un mensaje adecuado."
   ]
  },
  {
   "cell_type": "code",
   "execution_count": null,
   "metadata": {},
   "outputs": [],
   "source": [
    "categorical_features = get_features_cat_regression(df, target_col='Sleep Disorder', pvalue=0.05)\n",
    "\n",
    "# Mostrar las columnas categóricas relevantes\n",
    "print(\"Características categóricas seleccionadas:\")\n",
    "print(categorical_features)\n"
   ]
  }
 ],
 "metadata": {
  "kernelspec": {
   "display_name": "Python 3",
   "language": "python",
   "name": "python3"
  },
  "language_info": {
   "codemirror_mode": {
    "name": "ipython",
    "version": 3
   },
   "file_extension": ".py",
   "mimetype": "text/x-python",
   "name": "python",
   "nbconvert_exporter": "python",
   "pygments_lexer": "ipython3",
   "version": "3.10.8"
  }
 },
 "nbformat": 4,
 "nbformat_minor": 2
}
