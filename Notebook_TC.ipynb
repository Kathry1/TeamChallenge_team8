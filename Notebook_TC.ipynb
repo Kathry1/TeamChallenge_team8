{
 "cells": [
  {
   "cell_type": "code",
   "execution_count": 1,
   "metadata": {},
   "outputs": [],
   "source": [
    "import pandas as pd\n",
    "from scipy.stats import pearsonr\n",
    "import seaborn as sns\n",
    "import matplotlib.pyplot as plt"
   ]
  },
  {
   "cell_type": "code",
   "execution_count": 2,
   "metadata": {},
   "outputs": [],
   "source": [
    "from toolbox_ml import tipifica_variables"
   ]
  },
  {
   "cell_type": "code",
   "execution_count": 3,
   "metadata": {},
   "outputs": [
    {
     "data": {
      "text/html": [
       "<div>\n",
       "<style scoped>\n",
       "    .dataframe tbody tr th:only-of-type {\n",
       "        vertical-align: middle;\n",
       "    }\n",
       "\n",
       "    .dataframe tbody tr th {\n",
       "        vertical-align: top;\n",
       "    }\n",
       "\n",
       "    .dataframe thead th {\n",
       "        text-align: right;\n",
       "    }\n",
       "</style>\n",
       "<table border=\"1\" class=\"dataframe\">\n",
       "  <thead>\n",
       "    <tr style=\"text-align: right;\">\n",
       "      <th></th>\n",
       "      <th>Name</th>\n",
       "      <th>Age</th>\n",
       "      <th>City</th>\n",
       "      <th>Score</th>\n",
       "    </tr>\n",
       "  </thead>\n",
       "  <tbody>\n",
       "    <tr>\n",
       "      <th>0</th>\n",
       "      <td>Alice</td>\n",
       "      <td>25.0</td>\n",
       "      <td>New York</td>\n",
       "      <td>85.5</td>\n",
       "    </tr>\n",
       "    <tr>\n",
       "      <th>1</th>\n",
       "      <td>Bob</td>\n",
       "      <td>30.0</td>\n",
       "      <td>Los Angeles</td>\n",
       "      <td>90.0</td>\n",
       "    </tr>\n",
       "    <tr>\n",
       "      <th>2</th>\n",
       "      <td>Charlie</td>\n",
       "      <td>NaN</td>\n",
       "      <td>New York</td>\n",
       "      <td>NaN</td>\n",
       "    </tr>\n",
       "    <tr>\n",
       "      <th>3</th>\n",
       "      <td>Alice</td>\n",
       "      <td>35.0</td>\n",
       "      <td>Chicago</td>\n",
       "      <td>88.0</td>\n",
       "    </tr>\n",
       "    <tr>\n",
       "      <th>4</th>\n",
       "      <td>Emily</td>\n",
       "      <td>40.0</td>\n",
       "      <td>New York</td>\n",
       "      <td>92.0</td>\n",
       "    </tr>\n",
       "  </tbody>\n",
       "</table>\n",
       "</div>"
      ],
      "text/plain": [
       "      Name   Age         City  Score\n",
       "0    Alice  25.0     New York   85.5\n",
       "1      Bob  30.0  Los Angeles   90.0\n",
       "2  Charlie   NaN     New York    NaN\n",
       "3    Alice  35.0      Chicago   88.0\n",
       "4    Emily  40.0     New York   92.0"
      ]
     },
     "execution_count": 3,
     "metadata": {},
     "output_type": "execute_result"
    }
   ],
   "source": [
    "# Erstellen eines einfachen Beispieldatensatzes\n",
    "example_data = {\n",
    "    \"Name\": [\"Alice\", \"Bob\", \"Charlie\", \"Alice\", \"Emily\"],\n",
    "    \"Age\": [25, 30, None, 35, 40],\n",
    "    \"City\": [\"New York\", \"Los Angeles\", \"New York\", \"Chicago\", \"New York\"],\n",
    "    \"Score\": [85.5, 90.0, None, 88.0, 92.0]\n",
    "}\n",
    "\n",
    "example_df = pd.DataFrame(example_data)\n",
    "\n",
    "example_df\n"
   ]
  },
  {
   "cell_type": "code",
   "execution_count": 4,
   "metadata": {},
   "outputs": [],
   "source": [
    "from toolbox_ml import describe_df\n"
   ]
  },
  {
   "cell_type": "code",
   "execution_count": 5,
   "metadata": {},
   "outputs": [
    {
     "name": "stdout",
     "output_type": "stream",
     "text": [
      "      DATA_TYPE  MISSINGS (%)  UNIQUE_VALUES  CARDIN (%)\n",
      "COL_N                                                   \n",
      "Name     object           0.0              4        80.0\n",
      "Age     float64          20.0              4        80.0\n",
      "City     object           0.0              3        60.0\n",
      "Score   float64          20.0              4        80.0\n"
     ]
    }
   ],
   "source": [
    "# Funktion describe_df aufrufen und das Ergebnis anzeigen\n",
    "result = describe_df(example_df)\n",
    "\n",
    "print(result)\n"
   ]
  },
  {
   "cell_type": "code",
   "execution_count": null,
   "metadata": {},
   "outputs": [],
   "source": []
  },
  {
   "cell_type": "code",
   "execution_count": 6,
   "metadata": {},
   "outputs": [],
   "source": [
    "example_data = {\n",
    "    \"Name\": [\"Alice\", \"Bob\", \"Charlie\", \"Alice\", \"Emily\"],\n",
    "    \"Age\": [25, 30, None, 35, 40],\n",
    "    \"City\": [\"New York\", \"Los Angeles\", \"New York\", \"Chicago\", \"New York\"],\n",
    "    \"Score\": [85.5, 90.0, 88.0, 88.0, 92.0]\n",
    "}\n",
    "\n",
    "example_df = pd.DataFrame(example_data)\n"
   ]
  },
  {
   "cell_type": "code",
   "execution_count": 7,
   "metadata": {},
   "outputs": [],
   "source": [
    "from toolbox_ml import tipifica_variables\n"
   ]
  },
  {
   "cell_type": "code",
   "execution_count": 8,
   "metadata": {},
   "outputs": [
    {
     "name": "stdout",
     "output_type": "stream",
     "text": [
      "  nombre_variable      tipo_sugerido\n",
      "0            Name  Numerica Continua\n",
      "1             Age  Numerica Continua\n",
      "2            City  Numerica Continua\n",
      "3           Score  Numerica Continua\n"
     ]
    }
   ],
   "source": [
    "result = tipifica_variables(example_df, umbral_categoria=3, umbral_continua=0.5)\n",
    "\n",
    "# Ergebnis anzeigen\n",
    "print(result)\n"
   ]
  },
  {
   "cell_type": "code",
   "execution_count": 9,
   "metadata": {},
   "outputs": [],
   "source": [
    "from scipy.stats import pearsonr\n"
   ]
  },
  {
   "cell_type": "code",
   "execution_count": 10,
   "metadata": {},
   "outputs": [],
   "source": [
    "from toolbox_ml import (\n",
    "    describe_df,\n",
    "    tipifica_variables,\n",
    "    get_features_num_regression,\n",
    "    plot_features_num_regression,\n",
    "    get_features_cat_regression,\n",
    "    plot_features_cat_regression\n",
    ")\n"
   ]
  },
  {
   "cell_type": "code",
   "execution_count": 11,
   "metadata": {},
   "outputs": [],
   "source": [
    "import pandas as pd\n",
    "\n",
    "example_data = {\n",
    "    \"Name\": [\"Alice\", \"Bob\", \"Charlie\", \"Alice\", \"Emily\"],\n",
    "    \"Age\": [25, 30, 35, 40, 45],\n",
    "    \"City\": [\"New York\", \"Los Angeles\", \"New York\", \"Chicago\", \"Los Angeles\"],\n",
    "    \"Score\": [85, 90, 88, 92, 87],\n",
    "    \"Gender\": [\"F\", \"M\", \"M\", \"F\", \"F\"]\n",
    "}\n",
    "\n",
    "example_df = pd.DataFrame(example_data)\n"
   ]
  },
  {
   "cell_type": "code",
   "execution_count": 12,
   "metadata": {},
   "outputs": [
    {
     "name": "stdout",
     "output_type": "stream",
     "text": [
      "       DATA_TYPE  MISSINGS (%)  UNIQUE_VALUES  CARDIN (%)\n",
      "COL_N                                                    \n",
      "Name      object           0.0              4        80.0\n",
      "Age        int64           0.0              5       100.0\n",
      "City      object           0.0              3        60.0\n",
      "Score      int64           0.0              5       100.0\n",
      "Gender    object           0.0              2        40.0\n"
     ]
    }
   ],
   "source": [
    "print(describe_df(example_df))\n"
   ]
  },
  {
   "cell_type": "code",
   "execution_count": 13,
   "metadata": {},
   "outputs": [
    {
     "name": "stdout",
     "output_type": "stream",
     "text": [
      "  nombre_variable      tipo_sugerido\n",
      "0            Name  Numerica Continua\n",
      "1             Age  Numerica Continua\n",
      "2            City  Numerica Continua\n",
      "3           Score  Numerica Continua\n",
      "4          Gender            Binaria\n"
     ]
    }
   ],
   "source": [
    "print(tipifica_variables(example_df, umbral_categoria=3, umbral_continua=0.5))\n"
   ]
  },
  {
   "cell_type": "code",
   "execution_count": 14,
   "metadata": {},
   "outputs": [
    {
     "name": "stdout",
     "output_type": "stream",
     "text": [
      "['Age']\n"
     ]
    }
   ],
   "source": [
    "numerical_features = get_features_num_regression(example_df, target_col=\"Score\", umbral_corr=0.1, pvalue=0.05)\n",
    "print(numerical_features)\n"
   ]
  },
  {
   "cell_type": "code",
   "execution_count": 15,
   "metadata": {},
   "outputs": [
    {
     "data": {
      "image/png": "[encoded data removed]",
      "text/plain": [
       "<Figure size 500x500 with 6 Axes>"
      ]
     },
     "metadata": {},
     "output_type": "display_data"
    },
    {
     "data": {
      "text/plain": [
       "['Age']"
      ]
     },
     "execution_count": 15,
     "metadata": {},
     "output_type": "execute_result"
    }
   ],
   "source": [
    "plot_features_num_regression(example_df, target_col=\"Score\", columns=[\"Age\"], umbral_corr=0.1, pvalue=0.05)\n"
   ]
  },
  {
   "cell_type": "code",
   "execution_count": 16,
   "metadata": {},
   "outputs": [
    {
     "name": "stdout",
     "output_type": "stream",
     "text": [
      "[]\n"
     ]
    }
   ],
   "source": [
    "categorical_features = get_features_cat_regression(example_df, target_col=\"Score\", pvalue=0.05)\n",
    "print(categorical_features)\n"
   ]
  },
  {
   "cell_type": "code",
   "execution_count": 17,
   "metadata": {},
   "outputs": [
    {
     "name": "stdout",
     "output_type": "stream",
     "text": [
      "No hay columnas que cumplan con los criterios dados.\n"
     ]
    }
   ],
   "source": [
    "plot_features_cat_regression(example_df, target_col=\"Score\", columns=[\"City\", \"Gender\"], pvalue=0.05, with_individual_plot=True)\n"
   ]
  },
  {
   "cell_type": "code",
   "execution_count": null,
   "metadata": {},
   "outputs": [],
   "source": []
  },
  {
   "cell_type": "code",
   "execution_count": 18,
   "metadata": {},
   "outputs": [
    {
     "name": "stdout",
     "output_type": "stream",
     "text": [
      "City: p-Wert = 0.3082191780821917\n",
      "Gender: p-Wert = 0.7436662905658693\n"
     ]
    }
   ],
   "source": [
    "from scipy.stats import f_oneway\n",
    "\n",
    "# Für die Spalte \"City\"\n",
    "groups_city = [example_df[\"Score\"][example_df[\"City\"] == value] for value in example_df[\"City\"].unique()]\n",
    "stat_city, pval_city = f_oneway(*groups_city)\n",
    "print(f\"City: p-Wert = {pval_city}\")\n",
    "\n",
    "# Für die Spalte \"Gender\"\n",
    "groups_gender = [example_df[\"Score\"][example_df[\"Gender\"] == value] for value in example_df[\"Gender\"].unique()]\n",
    "stat_gender, pval_gender = f_oneway(*groups_gender)\n",
    "print(f\"Gender: p-Wert = {pval_gender}\")\n"
   ]
  },
  {
   "cell_type": "markdown",
   "metadata": {},
   "source": [
    "# Resumen de Resultados de las Funciones\n",
    "\n",
    "## **1. describe_df**\n",
    "### Resultado:\n",
    "| COL_N   | DATA_TYPE | MISSINGS (%) | UNIQUE_VALUES | CARDIN (%) |\n",
    "|---------|-----------|--------------|---------------|------------|\n",
    "| Name    | object    | 0.0          | 4             | 80.0       |\n",
    "| Age     | int64     | 0.0          | 5             | 100.0      |\n",
    "| City    | object    | 0.0          | 3             | 60.0       |\n",
    "| Score   | int64     | 0.0          | 5             | 100.0      |\n",
    "| Gender  | object    | 0.0          | 2             | 40.0       |\n",
    "\n",
    "### Interpretación:\n",
    "El DataFrame no tiene valores faltantes. Las columnas son una mezcla de categóricas (`object`) y numéricas (`int64`).\n",
    "\n",
    "---\n",
    "\n",
    "## **2. tipifica_variables**\n",
    "### Resultado:\n",
    "| nombre_variable | tipo_sugerido       |\n",
    "|------------------|---------------------|\n",
    "| Name            | Numerica Continua   |\n",
    "| Age             | Numerica Continua   |\n",
    "| City            | Numerica Continua   |\n",
    "| Score           | Numerica Continua   |\n",
    "| Gender          | Binaria             |\n",
    "\n",
    "### Interpretación:\n",
    "- `Gender` se clasifica como binaria porque tiene solo 2 valores únicos.\n",
    "- Las demás columnas se clasifican como continuas debido a su alta cardinalidad relativa.\n",
    "\n",
    "---\n",
    "\n",
    "## **3. get_features_num_regression**\n",
    "### Resultado:\n",
    "`['Age']`\n",
    "\n",
    "### Interpretación:\n",
    "La columna `Age` tiene una correlación estadísticamente significativa con la columna objetivo `Score` (\\( p < 0.05 \\)).\n",
    "\n",
    "---\n",
    "\n",
    "## **4. plot_features_num_regression**\n",
    "### Resultado:\n",
    "Se generaron gráficos que muestran la relación entre `Age` y `Score`. Los gráficos ilustran una posible correlación entre estas variables.\n",
    "\n",
    "---\n",
    "\n",
    "## **5. get_features_cat_regression**\n",
    "### Resultado:\n",
    "`[]`\n",
    "\n",
    "### Interpretación:\n",
    "Ninguna columna categórica (`City`, `Gender`) muestra una relación estadísticamente significativa (\\( p < 0.05 \\)) con la columna objetivo `Score`.\n",
    "\n",
    "---\n",
    "\n",
    "## **6. plot_features_cat_regression**\n",
    "### Resultado:\n",
    "No hay columnas que cumplan con los criterios dados.\n",
    "\n",
    "### Interpretación:\n",
    "No se generaron gráficos porque ninguna columna categórica cumple con los criterios de significancia estadística.\n",
    "\n",
    "---\n",
    "\n",
    "## **Conclusiones**\n",
    "- Las funciones filtraron correctamente las columnas numéricas y categóricas basándose en los criterios establecidos.\n",
    "- La columna `Age` tiene una relación significativa con `Score`, lo que la hace relevante para el análisis.\n",
    "- Las columnas categóricas (`City`, `Gender`) no tienen una relación significativa con la columna objetivo `Score`.\n"
   ]
  },
  {
   "cell_type": "markdown",
   "metadata": {},
   "source": []
  }
 ],
 "metadata": {
  "kernelspec": {
   "display_name": "Python 3",
   "language": "python",
   "name": "python3"
  },
  "language_info": {
   "codemirror_mode": {
    "name": "ipython",
    "version": 3
   },
   "file_extension": ".py",
   "mimetype": "text/x-python",
   "name": "python",
   "nbconvert_exporter": "python",
   "pygments_lexer": "ipython3",
   "version": "3.12.7"
  }
 },
 "nbformat": 4,
 "nbformat_minor": 2
}
